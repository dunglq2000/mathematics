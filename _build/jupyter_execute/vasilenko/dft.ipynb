{
 "cells": [
  {
   "cell_type": "markdown",
   "metadata": {},
   "source": [
    "## Biến đổi Fourier rời rạc"
   ]
  },
  {
   "cell_type": "code",
   "execution_count": 25,
   "metadata": {},
   "outputs": [
    {
     "name": "stdout",
     "output_type": "stream",
     "text": [
      "roots = [(2*x + 2, 1), (2*x + 1, 1), (x + 2, 1), (x + 1, 1)]\n",
      "zeta_2n = x + 2\n",
      "zeta_n = x\n",
      "f_hat = [2*x, x*x + x + 1, 0, 2*x*x + 2*x + 1]\n"
     ]
    }
   ],
   "source": [
    "from sage.all import *\n",
    "\n",
    "\n",
    "def discrete_fourier_transform(f, zeta_n, n: int):\n",
    "    f_hat = []\n",
    "    for i in range(n):\n",
    "        fi = sum(zeta_n**(i * j) * f[j] for j in range(n))\n",
    "        f_hat.append(fi)\n",
    "\n",
    "    print(f\"{f_hat = }\")\n",
    "    return f_hat\n",
    "\n",
    "\n",
    "F3 = GF(3)['x']\n",
    "x = F3.gen()\n",
    "\n",
    "F9 = GF(3**2, 'x', modulus=x**2 + 1)\n",
    "\n",
    "t = 2\n",
    "n = 2**t\n",
    "\n",
    "PR = PolynomialRing(F9, 'z')\n",
    "z = PR.gen()\n",
    "\n",
    "pol = z**n + 1\n",
    "roots = pol.roots()\n",
    "\n",
    "assert len(roots) > 0\n",
    "\n",
    "print(f\"{roots = }\")\n",
    "zeta_2n = roots[2][0]\n",
    "zeta_n = zeta_2n**2\n",
    "\n",
    "print(f\"{zeta_2n = }\")\n",
    "print(f\"{zeta_n = }\")\n",
    "\n",
    "# f = [F9.random_element() for _ in range(n)]\n",
    "# f = [0, 2*x]\n",
    "f = [2*x + 2, x + 2, 2*x + 1, 1]\n",
    "\n",
    "discrete_fourier_transform(f, zeta_n, n)\n",
    "\n",
    "f_hat = [2*x, 2*x*x + 2*x + 1, 0, x*x + x + 1] # 0\n",
    "f_hat = [2*x, x*x + x + 1, 0, 2*x*x + 2*x + 1] # 1\n",
    "f_hat = [2*x, x*x + x + 1, 0, 2*x*x + 2*x + 1] # 2\n",
    "f_hat = [2*x, 2*x*x + 2*x + 1, 0, x*x + x + 1] # 3\n"
   ]
  },
  {
   "cell_type": "markdown",
   "metadata": {},
   "source": [
    "https://github.com/jacksonwalters/dft-finite-groups"
   ]
  },
  {
   "cell_type": "code",
   "execution_count": null,
   "metadata": {},
   "outputs": [],
   "source": []
  }
 ],
 "metadata": {
  "kernelspec": {
   "display_name": "sage-env",
   "language": "python",
   "name": "python3"
  },
  "language_info": {
   "codemirror_mode": {
    "name": "ipython",
    "version": 3
   },
   "file_extension": ".py",
   "mimetype": "text/x-python",
   "name": "python",
   "nbconvert_exporter": "python",
   "pygments_lexer": "ipython3",
   "version": "undefined.undefined.undefined"
  }
 },
 "nbformat": 4,
 "nbformat_minor": 2
}